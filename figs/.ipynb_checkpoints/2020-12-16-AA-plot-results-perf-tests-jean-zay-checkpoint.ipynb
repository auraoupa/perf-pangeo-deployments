{
 "cells": [
  {
   "cell_type": "markdown",
   "metadata": {},
   "source": [
    "# Résults"
   ]
  },
  {
   "cell_type": "code",
   "execution_count": 1,
   "metadata": {},
   "outputs": [],
   "source": [
    "import numpy as np\n",
    "\n",
    "import matplotlib.pyplot as plt\n",
    "import matplotlib \n",
    "import pandas as pd"
   ]
  },
  {
   "cell_type": "code",
   "execution_count": 2,
   "metadata": {},
   "outputs": [],
   "source": [
    "matplotlib.rc('xtick', labelsize=10) \n",
    "matplotlib.rc('ytick', labelsize=10) \n",
    "matplotlib.rcParams.update({'font.size': 10})"
   ]
  },
  {
   "cell_type": "code",
   "execution_count": 30,
   "metadata": {},
   "outputs": [],
   "source": [
    "ds_nosort=pd.read_csv('Resultats_tests_PANGEO_HPC-JEAN-ZAY-mono.csv') \n",
    "ds=ds_nosort.sort_values(by=['Cores'])"
   ]
  },
  {
   "cell_type": "code",
   "execution_count": 31,
   "metadata": {},
   "outputs": [
    {
     "data": {
      "text/html": [
       "<div>\n",
       "<style scoped>\n",
       "    .dataframe tbody tr th:only-of-type {\n",
       "        vertical-align: middle;\n",
       "    }\n",
       "\n",
       "    .dataframe tbody tr th {\n",
       "        vertical-align: top;\n",
       "    }\n",
       "\n",
       "    .dataframe thead th {\n",
       "        text-align: right;\n",
       "    }\n",
       "</style>\n",
       "<table border=\"1\" class=\"dataframe\">\n",
       "  <thead>\n",
       "    <tr style=\"text-align: right;\">\n",
       "      <th></th>\n",
       "      <th>Queue</th>\n",
       "      <th>Nb Noeuds</th>\n",
       "      <th>Workers</th>\n",
       "      <th>Cores</th>\n",
       "      <th>Memory in GB</th>\n",
       "      <th>Resultat1 in sec</th>\n",
       "      <th>Resultat2 in sec</th>\n",
       "      <th>Resultat3 in sec</th>\n",
       "    </tr>\n",
       "  </thead>\n",
       "  <tbody>\n",
       "    <tr>\n",
       "      <th>0</th>\n",
       "      <td>cpu-p1</td>\n",
       "      <td>1</td>\n",
       "      <td>2</td>\n",
       "      <td>2</td>\n",
       "      <td>171.80</td>\n",
       "      <td>3143</td>\n",
       "      <td>3126</td>\n",
       "      <td>NaN</td>\n",
       "    </tr>\n",
       "    <tr>\n",
       "      <th>1</th>\n",
       "      <td>cpu-p1</td>\n",
       "      <td>1</td>\n",
       "      <td>28</td>\n",
       "      <td>28</td>\n",
       "      <td>161.06</td>\n",
       "      <td>291</td>\n",
       "      <td>291</td>\n",
       "      <td>290.0</td>\n",
       "    </tr>\n",
       "    <tr>\n",
       "      <th>2</th>\n",
       "      <td>cpu-p1</td>\n",
       "      <td>1</td>\n",
       "      <td>40</td>\n",
       "      <td>40</td>\n",
       "      <td>161.06</td>\n",
       "      <td>281</td>\n",
       "      <td>281</td>\n",
       "      <td>281.0</td>\n",
       "    </tr>\n",
       "    <tr>\n",
       "      <th>4</th>\n",
       "      <td>prepost</td>\n",
       "      <td>1</td>\n",
       "      <td>48</td>\n",
       "      <td>48</td>\n",
       "      <td>2200.00</td>\n",
       "      <td>234</td>\n",
       "      <td>234</td>\n",
       "      <td>234.0</td>\n",
       "    </tr>\n",
       "    <tr>\n",
       "      <th>3</th>\n",
       "      <td>cpu-p1</td>\n",
       "      <td>2</td>\n",
       "      <td>80</td>\n",
       "      <td>80</td>\n",
       "      <td>161.06</td>\n",
       "      <td>187</td>\n",
       "      <td>186</td>\n",
       "      <td>186.0</td>\n",
       "    </tr>\n",
       "  </tbody>\n",
       "</table>\n",
       "</div>"
      ],
      "text/plain": [
       "     Queue  Nb Noeuds  Workers  Cores  Memory in GB  Resultat1 in sec  \\\n",
       "0   cpu-p1          1        2      2        171.80              3143   \n",
       "1   cpu-p1          1       28     28        161.06               291   \n",
       "2   cpu-p1          1       40     40        161.06               281   \n",
       "4  prepost          1       48     48       2200.00               234   \n",
       "3   cpu-p1          2       80     80        161.06               187   \n",
       "\n",
       "   Resultat2 in sec  Resultat3 in sec  \n",
       "0              3126               NaN  \n",
       "1               291             290.0  \n",
       "2               281             281.0  \n",
       "4               234             234.0  \n",
       "3               186             186.0  "
      ]
     },
     "execution_count": 31,
     "metadata": {},
     "output_type": "execute_result"
    }
   ],
   "source": [
    "ds"
   ]
  },
  {
   "cell_type": "code",
   "execution_count": 32,
   "metadata": {},
   "outputs": [],
   "source": [
    "workers=ds['Workers']\n",
    "cores=ds['Cores']\n",
    "memory=ds['Memory in GB']\n",
    "results=ds[['Resultat1 in sec','Resultat2 in sec','Resultat3 in sec']]\n",
    "mean_results=results.mean(axis=1)"
   ]
  },
  {
   "cell_type": "code",
   "execution_count": 33,
   "metadata": {},
   "outputs": [],
   "source": [
    "min_worker=workers.min()\n",
    "argmin_worker=workers.idxmin()\n",
    "result_min=mean_results[argmin_worker]\n",
    "scale=result_min/(workers/min_worker)"
   ]
  },
  {
   "cell_type": "code",
   "execution_count": 19,
   "metadata": {},
   "outputs": [
    {
     "name": "stderr",
     "output_type": "stream",
     "text": [
      "/Users/auraoupa/anaconda2/envs/pangeo-cloud/lib/python3.6/site-packages/matplotlib/cbook/__init__.py:1377: FutureWarning: Support for multi-dimensional indexing (e.g. `obj[:, None]`) is deprecated and will be removed in a future version.  Convert to a numpy array before indexing instead.\n",
      "  x[:, None]\n",
      "/Users/auraoupa/anaconda2/envs/pangeo-cloud/lib/python3.6/site-packages/matplotlib/axes/_base.py:237: FutureWarning: Support for multi-dimensional indexing (e.g. `obj[:, None]`) is deprecated and will be removed in a future version.  Convert to a numpy array before indexing instead.\n",
      "  x = x[:, np.newaxis]\n",
      "/Users/auraoupa/anaconda2/envs/pangeo-cloud/lib/python3.6/site-packages/matplotlib/axes/_base.py:239: FutureWarning: Support for multi-dimensional indexing (e.g. `obj[:, None]`) is deprecated and will be removed in a future version.  Convert to a numpy array before indexing instead.\n",
      "  y = y[:, np.newaxis]\n"
     ]
    },
    {
     "data": {
      "image/png": "[encoded data removed]",
      "text/plain": [
       "<Figure size 432x288 with 1 Axes>"
      ]
     },
     "metadata": {
      "needs_background": "light"
     },
     "output_type": "display_data"
    }
   ],
   "source": [
    "fig, ax = plt.subplots()\n",
    "fig.figsize=(8, 8)\n",
    "plt.errorbar(workers, results.mean(axis=1), yerr=results.std(axis=1),\n",
    "             ls='-',marker='o',ms=3,color='lightcoral', \n",
    "             label='result JEAN-ZAY')\n",
    "plt.plot(workers, scale, \n",
    "             ls=':',marker='o',ms=3,color='lightcoral', \n",
    "             label='scalable JEAN-ZAY')\n",
    "\n",
    "plt.legend(loc='center left', bbox_to_anchor=(1, 0.5))\n",
    "plt.xlabel('Number of Workers/Cores')\n",
    "plt.ylabel('Walltime in seconds')\n",
    "plt.title('Performance tests on JEAN ZAY nodes')\n",
    "plt.savefig('Perf-jz-workers.png', bbox_inches='tight')"
   ]
  },
  {
   "cell_type": "code",
   "execution_count": 21,
   "metadata": {},
   "outputs": [],
   "source": [
    "ds_mem=ds_nosort.sort_values(by=['Memory in GB'])\n",
    "workers_mem=ds_mem['Workers']\n",
    "cores_mem=ds_mem['Cores']\n",
    "memory_mem=ds_mem['Memory in GB']\n",
    "results_mem=ds_mem[['Resultat1 in sec','Resultat2 in sec','Resultat3 in sec']]\n",
    "mean_results_mem=results.mean(axis=1)\n",
    "min_memory=memory_mem.min()\n",
    "argmin_memory=memory_mem.idxmin()\n",
    "result_min_memory=mean_results_mem[argmin_memory]\n",
    "scale_memory=result_min_memory/(memory/min_memory)"
   ]
  },
  {
   "cell_type": "code",
   "execution_count": 23,
   "metadata": {},
   "outputs": [
    {
     "data": {
      "text/html": [
       "<div>\n",
       "<style scoped>\n",
       "    .dataframe tbody tr th:only-of-type {\n",
       "        vertical-align: middle;\n",
       "    }\n",
       "\n",
       "    .dataframe tbody tr th {\n",
       "        vertical-align: top;\n",
       "    }\n",
       "\n",
       "    .dataframe thead th {\n",
       "        text-align: right;\n",
       "    }\n",
       "</style>\n",
       "<table border=\"1\" class=\"dataframe\">\n",
       "  <thead>\n",
       "    <tr style=\"text-align: right;\">\n",
       "      <th></th>\n",
       "      <th>Queue</th>\n",
       "      <th>Nb Noeuds</th>\n",
       "      <th>Workers</th>\n",
       "      <th>Cores</th>\n",
       "      <th>Memory in GB</th>\n",
       "      <th>Resultat1 in sec</th>\n",
       "      <th>Resultat2 in sec</th>\n",
       "      <th>Resultat3 in sec</th>\n",
       "    </tr>\n",
       "  </thead>\n",
       "  <tbody>\n",
       "    <tr>\n",
       "      <th>1</th>\n",
       "      <td>cpu-p1</td>\n",
       "      <td>1</td>\n",
       "      <td>28</td>\n",
       "      <td>28</td>\n",
       "      <td>161.06</td>\n",
       "      <td>291</td>\n",
       "      <td>291</td>\n",
       "      <td>290.0</td>\n",
       "    </tr>\n",
       "    <tr>\n",
       "      <th>2</th>\n",
       "      <td>cpu-p1</td>\n",
       "      <td>1</td>\n",
       "      <td>40</td>\n",
       "      <td>40</td>\n",
       "      <td>161.06</td>\n",
       "      <td>281</td>\n",
       "      <td>281</td>\n",
       "      <td>281.0</td>\n",
       "    </tr>\n",
       "    <tr>\n",
       "      <th>3</th>\n",
       "      <td>cpu-p1</td>\n",
       "      <td>2</td>\n",
       "      <td>80</td>\n",
       "      <td>80</td>\n",
       "      <td>161.06</td>\n",
       "      <td>187</td>\n",
       "      <td>186</td>\n",
       "      <td>186.0</td>\n",
       "    </tr>\n",
       "    <tr>\n",
       "      <th>0</th>\n",
       "      <td>cpu-p1</td>\n",
       "      <td>1</td>\n",
       "      <td>2</td>\n",
       "      <td>2</td>\n",
       "      <td>171.80</td>\n",
       "      <td>3143</td>\n",
       "      <td>3126</td>\n",
       "      <td>NaN</td>\n",
       "    </tr>\n",
       "    <tr>\n",
       "      <th>4</th>\n",
       "      <td>prepost</td>\n",
       "      <td>1</td>\n",
       "      <td>48</td>\n",
       "      <td>48</td>\n",
       "      <td>2200.00</td>\n",
       "      <td>234</td>\n",
       "      <td>234</td>\n",
       "      <td>234.0</td>\n",
       "    </tr>\n",
       "  </tbody>\n",
       "</table>\n",
       "</div>"
      ],
      "text/plain": [
       "     Queue  Nb Noeuds  Workers  Cores  Memory in GB  Resultat1 in sec  \\\n",
       "1   cpu-p1          1       28     28        161.06               291   \n",
       "2   cpu-p1          1       40     40        161.06               281   \n",
       "3   cpu-p1          2       80     80        161.06               187   \n",
       "0   cpu-p1          1        2      2        171.80              3143   \n",
       "4  prepost          1       48     48       2200.00               234   \n",
       "\n",
       "   Resultat2 in sec  Resultat3 in sec  \n",
       "1               291             290.0  \n",
       "2               281             281.0  \n",
       "3               186             186.0  \n",
       "0              3126               NaN  \n",
       "4               234             234.0  "
      ]
     },
     "execution_count": 23,
     "metadata": {},
     "output_type": "execute_result"
    }
   ],
   "source": [
    "ds_mem"
   ]
  },
  {
   "cell_type": "code",
   "execution_count": 22,
   "metadata": {},
   "outputs": [
    {
     "data": {
      "image/png": "[encoded data removed]",
      "text/plain": [
       "<Figure size 432x288 with 1 Axes>"
      ]
     },
     "metadata": {
      "needs_background": "light"
     },
     "output_type": "display_data"
    }
   ],
   "source": [
    "fig, ax = plt.subplots()\n",
    "fig.figsize=(8, 8)\n",
    "plt.errorbar(memory, results.mean(axis=1), yerr=results.std(axis=1),\n",
    "             ls=':',marker='o',ms=3,color='lightcoral', \n",
    "             label='results JEAN-ZAY')\n",
    "plt.plot(memory, scale_memory, \n",
    "             ls='-',marker='o',ms=3,color='lightcoral', \n",
    "             label='scalable JEAN-ZAY')\n",
    "plt.legend(loc='center left', bbox_to_anchor=(1, 0.5))\n",
    "plt.xlabel('Memory in Gb')\n",
    "plt.ylabel('Walltime in seconds')\n",
    "plt.title('Performance tests on JEAN-ZAY nodes')\n",
    "plt.savefig('Perf-jz-memory.png', bbox_inches='tight')"
   ]
  },
  {
   "cell_type": "code",
   "execution_count": 24,
   "metadata": {},
   "outputs": [],
   "source": [
    "ds_multi_nosort=pd.read_csv('Resultats_tests_PANGEO_HPC-JEAN-ZAY-multi.csv') \n",
    "ds_multi=ds_multi_nosort.sort_values(by=['Cores'])"
   ]
  },
  {
   "cell_type": "code",
   "execution_count": 25,
   "metadata": {},
   "outputs": [
    {
     "data": {
      "text/html": [
       "<div>\n",
       "<style scoped>\n",
       "    .dataframe tbody tr th:only-of-type {\n",
       "        vertical-align: middle;\n",
       "    }\n",
       "\n",
       "    .dataframe tbody tr th {\n",
       "        vertical-align: top;\n",
       "    }\n",
       "\n",
       "    .dataframe thead th {\n",
       "        text-align: right;\n",
       "    }\n",
       "</style>\n",
       "<table border=\"1\" class=\"dataframe\">\n",
       "  <thead>\n",
       "    <tr style=\"text-align: right;\">\n",
       "      <th></th>\n",
       "      <th>Queue</th>\n",
       "      <th>Nb Noeuds</th>\n",
       "      <th>Workers</th>\n",
       "      <th>Cores</th>\n",
       "      <th>Memory in GB</th>\n",
       "      <th>Resultat1 in sec</th>\n",
       "      <th>Resultat2 in sec</th>\n",
       "      <th>Resultat3 in sec</th>\n",
       "    </tr>\n",
       "  </thead>\n",
       "  <tbody>\n",
       "    <tr>\n",
       "      <th>0</th>\n",
       "      <td>cpu-p1</td>\n",
       "      <td>1</td>\n",
       "      <td>7</td>\n",
       "      <td>28</td>\n",
       "      <td>161.06</td>\n",
       "      <td>284</td>\n",
       "      <td>284</td>\n",
       "      <td>284</td>\n",
       "    </tr>\n",
       "    <tr>\n",
       "      <th>1</th>\n",
       "      <td>cpu-p1</td>\n",
       "      <td>1</td>\n",
       "      <td>8</td>\n",
       "      <td>40</td>\n",
       "      <td>161.06</td>\n",
       "      <td>292</td>\n",
       "      <td>293</td>\n",
       "      <td>291</td>\n",
       "    </tr>\n",
       "    <tr>\n",
       "      <th>3</th>\n",
       "      <td>prepost</td>\n",
       "      <td>1</td>\n",
       "      <td>8</td>\n",
       "      <td>48</td>\n",
       "      <td>2200.00</td>\n",
       "      <td>257</td>\n",
       "      <td>255</td>\n",
       "      <td>257</td>\n",
       "    </tr>\n",
       "    <tr>\n",
       "      <th>2</th>\n",
       "      <td>cpu-p1</td>\n",
       "      <td>2</td>\n",
       "      <td>10</td>\n",
       "      <td>80</td>\n",
       "      <td>161.06</td>\n",
       "      <td>195</td>\n",
       "      <td>187</td>\n",
       "      <td>185</td>\n",
       "    </tr>\n",
       "  </tbody>\n",
       "</table>\n",
       "</div>"
      ],
      "text/plain": [
       "     Queue  Nb Noeuds  Workers  Cores  Memory in GB  Resultat1 in sec  \\\n",
       "0   cpu-p1          1        7     28        161.06               284   \n",
       "1   cpu-p1          1        8     40        161.06               292   \n",
       "3  prepost          1        8     48       2200.00               257   \n",
       "2   cpu-p1          2       10     80        161.06               195   \n",
       "\n",
       "   Resultat2 in sec  Resultat3 in sec  \n",
       "0               284               284  \n",
       "1               293               291  \n",
       "3               255               257  \n",
       "2               187               185  "
      ]
     },
     "execution_count": 25,
     "metadata": {},
     "output_type": "execute_result"
    }
   ],
   "source": [
    "ds_multi"
   ]
  },
  {
   "cell_type": "code",
   "execution_count": 26,
   "metadata": {},
   "outputs": [],
   "source": [
    "workers_multi=ds_multi['Workers']\n",
    "cores_multi=ds_multi['Cores']\n",
    "memory_multi=ds_multi['Memory in GB']\n",
    "results_multi=ds_multi[['Resultat1 in sec','Resultat2 in sec','Resultat3 in sec']]\n",
    "mean_results_multi=results_multi.mean(axis=1)"
   ]
  },
  {
   "cell_type": "code",
   "execution_count": 37,
   "metadata": {},
   "outputs": [
    {
     "data": {
      "text/plain": [
       "1    28\n",
       "2    40\n",
       "4    48\n",
       "3    80\n",
       "Name: Cores, dtype: int64"
      ]
     },
     "execution_count": 37,
     "metadata": {},
     "output_type": "execute_result"
    }
   ],
   "source": [
    "cores[1:]"
   ]
  },
  {
   "cell_type": "code",
   "execution_count": 36,
   "metadata": {},
   "outputs": [
    {
     "data": {
      "text/plain": [
       "0    28\n",
       "1    40\n",
       "3    48\n",
       "2    80\n",
       "Name: Cores, dtype: int64"
      ]
     },
     "execution_count": 36,
     "metadata": {},
     "output_type": "execute_result"
    }
   ],
   "source": [
    "cores_multi"
   ]
  },
  {
   "cell_type": "code",
   "execution_count": 28,
   "metadata": {},
   "outputs": [
    {
     "data": {
      "text/plain": [
       "1     290.666667\n",
       "2     281.000000\n",
       "3     186.333333\n",
       "0    3134.500000\n",
       "4     234.000000\n",
       "dtype: float64"
      ]
     },
     "execution_count": 28,
     "metadata": {},
     "output_type": "execute_result"
    }
   ],
   "source": [
    "results.mean(axis=1)"
   ]
  },
  {
   "cell_type": "code",
   "execution_count": 38,
   "metadata": {},
   "outputs": [
    {
     "data": {
      "image/png": "[encoded data removed]",
      "text/plain": [
       "<Figure size 432x288 with 1 Axes>"
      ]
     },
     "metadata": {
      "needs_background": "light"
     },
     "output_type": "display_data"
    }
   ],
   "source": [
    "fig, ax = plt.subplots()\n",
    "fig.figsize=(8, 8)\n",
    "plt.errorbar(cores[1:], results[1:].mean(axis=1), yerr=results[1:].std(axis=1),\n",
    "             ls='-',marker='o',ms=3,color='lightcoral', \n",
    "             label='result JEAN-ZAY - 1 thread per worker')\n",
    "plt.errorbar(cores_multi, results_multi.mean(axis=1), yerr=results_multi.std(axis=1),\n",
    "             ls='-',marker='o',ms=3,color='red', \n",
    "             label='result JEAN-ZAY - multi thread')\n",
    "\n",
    "plt.legend(loc='center left', bbox_to_anchor=(1, 0.5))\n",
    "plt.xlabel('Number of Cores')\n",
    "plt.ylabel('Walltime in seconds')\n",
    "plt.title('Performance tests on JEAN-ZAY nodes')\n",
    "plt.savefig('Perf-jz-cores-mono-multi.png', bbox_inches='tight')"
   ]
  },
  {
   "cell_type": "code",
   "execution_count": null,
   "metadata": {},
   "outputs": [],
   "source": []
  }
 ],
 "metadata": {
  "kernelspec": {
   "display_name": "pangeo_cloud",
   "language": "python",
   "name": "pangeo-cloud"
  },
  "language_info": {
   "codemirror_mode": {
    "name": "ipython",
    "version": 3
   },
   "file_extension": ".py",
   "mimetype": "text/x-python",
   "name": "python",
   "nbconvert_exporter": "python",
   "pygments_lexer": "ipython3",
   "version": "3.6.7"
  }
 },
 "nbformat": 4,
 "nbformat_minor": 2
}
