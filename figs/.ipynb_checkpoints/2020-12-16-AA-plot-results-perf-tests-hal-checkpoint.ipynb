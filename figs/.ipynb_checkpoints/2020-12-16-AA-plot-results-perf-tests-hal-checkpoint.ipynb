{
 "cells": [
  {
   "cell_type": "markdown",
   "metadata": {},
   "source": [
    "# Résults"
   ]
  },
  {
   "cell_type": "code",
   "execution_count": 1,
   "metadata": {},
   "outputs": [],
   "source": [
    "import numpy as np\n",
    "\n",
    "import matplotlib.pyplot as plt\n",
    "import matplotlib \n",
    "import pandas as pd"
   ]
  },
  {
   "cell_type": "code",
   "execution_count": 2,
   "metadata": {},
   "outputs": [],
   "source": [
    "matplotlib.rc('xtick', labelsize=10) \n",
    "matplotlib.rc('ytick', labelsize=10) \n",
    "matplotlib.rcParams.update({'font.size': 10})"
   ]
  },
  {
   "cell_type": "code",
   "execution_count": 3,
   "metadata": {},
   "outputs": [],
   "source": [
    "ds_nosort=pd.read_csv('Resultats_tests_PANGEO_HPC-HAL-mono.csv')  \n",
    "ds=ds_nosort.sort_values(by=['Cores'])"
   ]
  },
  {
   "cell_type": "code",
   "execution_count": 4,
   "metadata": {},
   "outputs": [
    {
     "data": {
      "text/html": [
       "<div>\n",
       "<style scoped>\n",
       "    .dataframe tbody tr th:only-of-type {\n",
       "        vertical-align: middle;\n",
       "    }\n",
       "\n",
       "    .dataframe tbody tr th {\n",
       "        vertical-align: top;\n",
       "    }\n",
       "\n",
       "    .dataframe thead th {\n",
       "        text-align: right;\n",
       "    }\n",
       "</style>\n",
       "<table border=\"1\" class=\"dataframe\">\n",
       "  <thead>\n",
       "    <tr style=\"text-align: right;\">\n",
       "      <th></th>\n",
       "      <th>Queue</th>\n",
       "      <th>Nb Noeuds</th>\n",
       "      <th>Workers</th>\n",
       "      <th>Cores</th>\n",
       "      <th>Memory in GB</th>\n",
       "      <th>Resultat1 in sec</th>\n",
       "      <th>Resultat2 in sec</th>\n",
       "      <th>Resultat3 in sec</th>\n",
       "    </tr>\n",
       "  </thead>\n",
       "  <tbody>\n",
       "    <tr>\n",
       "      <th>0</th>\n",
       "      <td>qdev</td>\n",
       "      <td>1</td>\n",
       "      <td>16</td>\n",
       "      <td>16</td>\n",
       "      <td>64.42</td>\n",
       "      <td>483</td>\n",
       "      <td>480</td>\n",
       "      <td>478</td>\n",
       "    </tr>\n",
       "    <tr>\n",
       "      <th>3</th>\n",
       "      <td>qt72h</td>\n",
       "      <td>1</td>\n",
       "      <td>24</td>\n",
       "      <td>24</td>\n",
       "      <td>128.85</td>\n",
       "      <td>459</td>\n",
       "      <td>432</td>\n",
       "      <td>423</td>\n",
       "    </tr>\n",
       "    <tr>\n",
       "      <th>1</th>\n",
       "      <td>qdev</td>\n",
       "      <td>2</td>\n",
       "      <td>32</td>\n",
       "      <td>32</td>\n",
       "      <td>120.00</td>\n",
       "      <td>262</td>\n",
       "      <td>265</td>\n",
       "      <td>257</td>\n",
       "    </tr>\n",
       "    <tr>\n",
       "      <th>2</th>\n",
       "      <td>qt72h</td>\n",
       "      <td>1</td>\n",
       "      <td>40</td>\n",
       "      <td>40</td>\n",
       "      <td>197.57</td>\n",
       "      <td>331</td>\n",
       "      <td>345</td>\n",
       "      <td>340</td>\n",
       "    </tr>\n",
       "  </tbody>\n",
       "</table>\n",
       "</div>"
      ],
      "text/plain": [
       "   Queue  Nb Noeuds  Workers  Cores  Memory in GB  Resultat1 in sec  \\\n",
       "0   qdev          1       16     16         64.42               483   \n",
       "3  qt72h          1       24     24        128.85               459   \n",
       "1   qdev          2       32     32        120.00               262   \n",
       "2  qt72h          1       40     40        197.57               331   \n",
       "\n",
       "   Resultat2 in sec  Resultat3 in sec  \n",
       "0               480               478  \n",
       "3               432               423  \n",
       "1               265               257  \n",
       "2               345               340  "
      ]
     },
     "execution_count": 4,
     "metadata": {},
     "output_type": "execute_result"
    }
   ],
   "source": [
    "ds"
   ]
  },
  {
   "cell_type": "code",
   "execution_count": 10,
   "metadata": {},
   "outputs": [],
   "source": [
    "qdev=ds[ds['Queue']=='qdev']\n",
    "cores_qdev=qdev['Cores']\n",
    "workers_qdev=qdev['Workers']\n",
    "memory_qdev=qdev['Memory in GB']\n",
    "results_qdev=qdev[['Resultat1 in sec','Resultat2 in sec','Resultat3 in sec']]\n",
    "mean_results_qdev=results_qdev.mean(axis=1)"
   ]
  },
  {
   "cell_type": "code",
   "execution_count": 11,
   "metadata": {},
   "outputs": [],
   "source": [
    "min_worker_qdev=workers_qdev.min()\n",
    "argmin_worker_qdev=workers_qdev.idxmin()\n",
    "result_min_qdev=mean_results_qdev[argmin_worker_qdev]\n",
    "scale_qdev=result_min_qdev/(workers_qdev/min_worker_qdev)"
   ]
  },
  {
   "cell_type": "code",
   "execution_count": 14,
   "metadata": {},
   "outputs": [],
   "source": [
    "qt72h=ds[ds['Queue']=='qt72h']\n",
    "cores_qt72h=qt72h['Cores']\n",
    "workers_qt72h=qt72h['Workers']\n",
    "memory_qt72h=qt72h['Memory in GB']\n",
    "results_qt72h=qt72h[['Resultat1 in sec','Resultat2 in sec','Resultat3 in sec']]\n",
    "mean_results_qt72h=results_qt72h.mean(axis=1)"
   ]
  },
  {
   "cell_type": "code",
   "execution_count": 16,
   "metadata": {},
   "outputs": [
    {
     "data": {
      "image/png": "[encoded data removed]",
      "text/plain": [
       "<Figure size 432x288 with 1 Axes>"
      ]
     },
     "metadata": {
      "needs_background": "light"
     },
     "output_type": "display_data"
    }
   ],
   "source": [
    "fig, ax = plt.subplots()\n",
    "fig.figsize=(8, 8)\n",
    "plt.errorbar(workers_qdev, results_qdev.mean(axis=1), yerr=results_qdev.std(axis=1),\n",
    "             ls='-',marker='o',ms=3,color='darkorange', \n",
    "             label='result HAL - jobqueue')\n",
    "plt.plot(workers_qdev, scale_qdev, \n",
    "             ls=':',marker='o',ms=3,color='darkorange', \n",
    "             label='scalable HAL - jobqueue')\n",
    "plt.errorbar(workers_qt72h, results_qt72h.mean(axis=1), yerr=results_qt72h.std(axis=1),\n",
    "             ls='',marker='o',ms=3,color='tomato', \n",
    "             label='result HAL - LocalCluster')\n",
    "\n",
    "plt.legend(loc='center left', bbox_to_anchor=(1, 0.5))\n",
    "plt.xlabel('Number of Workers/Cores')\n",
    "plt.ylabel('Walltime in seconds')\n",
    "plt.title('Performance tests on HAL nodes')\n",
    "plt.savefig('Perf-hal-workers.png', bbox_inches='tight')"
   ]
  },
  {
   "cell_type": "code",
   "execution_count": 17,
   "metadata": {},
   "outputs": [],
   "source": [
    "min_memory_qdev=memory_qdev.min()\n",
    "argmin_memory_qdev=memory_qdev.idxmin()\n",
    "result_min_memory_qdev=mean_results_qdev[argmin_memory_qdev]\n",
    "scale_memory_qdev=result_min_memory_qdev/(memory_qdev/min_memory_qdev)"
   ]
  },
  {
   "cell_type": "code",
   "execution_count": 18,
   "metadata": {},
   "outputs": [
    {
     "data": {
      "image/png": "[encoded data removed]",
      "text/plain": [
       "<Figure size 432x288 with 1 Axes>"
      ]
     },
     "metadata": {
      "needs_background": "light"
     },
     "output_type": "display_data"
    }
   ],
   "source": [
    "fig, ax = plt.subplots()\n",
    "fig.figsize=(8, 8)\n",
    "plt.errorbar(memory_qdev, results_qdev.mean(axis=1), yerr=results_qdev.std(axis=1),\n",
    "             ls='-',marker='o',ms=3,color='darkorange', \n",
    "             label='results HAL - jobqueue')\n",
    "plt.plot(memory_qdev, scale_memory_qdev, \n",
    "             ls=':',marker='o',ms=3,color='darkorange', \n",
    "             label='scalable HAL - jobqueue')\n",
    "plt.errorbar(memory_qt72h, results_qt72h.mean(axis=1), yerr=results_qt72h.std(axis=1),\n",
    "             ls='',marker='o',ms=3,color='tomato', \n",
    "             label='result HAL - LocalCluster')\n",
    "plt.legend(loc='center left', bbox_to_anchor=(1, 0.5))\n",
    "plt.xlabel('Memory in Gb')\n",
    "plt.ylabel('Walltime in seconds')\n",
    "plt.title('Performance tests on HAL nodes')\n",
    "plt.savefig('Perf-hal-memory.png', bbox_inches='tight')"
   ]
  },
  {
   "cell_type": "code",
   "execution_count": 40,
   "metadata": {},
   "outputs": [],
   "source": [
    "ds_multi_nosort=pd.read_csv('Resultats_tests_PANGEO_HPC-HAL-multi.csv') \n",
    "ds_multi=ds_multi_nosort.sort_values(by=['Cores'])"
   ]
  },
  {
   "cell_type": "code",
   "execution_count": 41,
   "metadata": {},
   "outputs": [
    {
     "data": {
      "text/html": [
       "<div>\n",
       "<style scoped>\n",
       "    .dataframe tbody tr th:only-of-type {\n",
       "        vertical-align: middle;\n",
       "    }\n",
       "\n",
       "    .dataframe tbody tr th {\n",
       "        vertical-align: top;\n",
       "    }\n",
       "\n",
       "    .dataframe thead th {\n",
       "        text-align: right;\n",
       "    }\n",
       "</style>\n",
       "<table border=\"1\" class=\"dataframe\">\n",
       "  <thead>\n",
       "    <tr style=\"text-align: right;\">\n",
       "      <th></th>\n",
       "      <th>Queue</th>\n",
       "      <th>Nb Noeuds</th>\n",
       "      <th>Workers</th>\n",
       "      <th>Cores</th>\n",
       "      <th>Memory in GB</th>\n",
       "      <th>Resultat1 in sec</th>\n",
       "      <th>Resultat2 in sec</th>\n",
       "      <th>Resultat3 in sec</th>\n",
       "    </tr>\n",
       "  </thead>\n",
       "  <tbody>\n",
       "    <tr>\n",
       "      <th>0</th>\n",
       "      <td>qdev</td>\n",
       "      <td>1</td>\n",
       "      <td>4</td>\n",
       "      <td>16</td>\n",
       "      <td>64.42</td>\n",
       "      <td>516</td>\n",
       "      <td>478</td>\n",
       "      <td>474.0</td>\n",
       "    </tr>\n",
       "    <tr>\n",
       "      <th>7</th>\n",
       "      <td>qt72h</td>\n",
       "      <td>1</td>\n",
       "      <td>6</td>\n",
       "      <td>24</td>\n",
       "      <td>128.85</td>\n",
       "      <td>719</td>\n",
       "      <td>700</td>\n",
       "      <td>710.0</td>\n",
       "    </tr>\n",
       "    <tr>\n",
       "      <th>6</th>\n",
       "      <td>qt1h-40</td>\n",
       "      <td>1</td>\n",
       "      <td>8</td>\n",
       "      <td>40</td>\n",
       "      <td>197.57</td>\n",
       "      <td>1486</td>\n",
       "      <td>1541</td>\n",
       "      <td>1540.0</td>\n",
       "    </tr>\n",
       "    <tr>\n",
       "      <th>4</th>\n",
       "      <td>qt1h-28</td>\n",
       "      <td>2</td>\n",
       "      <td>14</td>\n",
       "      <td>56</td>\n",
       "      <td>368.06</td>\n",
       "      <td>203</td>\n",
       "      <td>221</td>\n",
       "      <td>192.0</td>\n",
       "    </tr>\n",
       "    <tr>\n",
       "      <th>5</th>\n",
       "      <td>qt1h-40</td>\n",
       "      <td>2</td>\n",
       "      <td>16</td>\n",
       "      <td>80</td>\n",
       "      <td>195.00</td>\n",
       "      <td>211</td>\n",
       "      <td>192</td>\n",
       "      <td>NaN</td>\n",
       "    </tr>\n",
       "    <tr>\n",
       "      <th>3</th>\n",
       "      <td>qt1h-28</td>\n",
       "      <td>4</td>\n",
       "      <td>28</td>\n",
       "      <td>112</td>\n",
       "      <td>736.12</td>\n",
       "      <td>135</td>\n",
       "      <td>136</td>\n",
       "      <td>133.0</td>\n",
       "    </tr>\n",
       "    <tr>\n",
       "      <th>2</th>\n",
       "      <td>qt1h-40</td>\n",
       "      <td>5</td>\n",
       "      <td>40</td>\n",
       "      <td>200</td>\n",
       "      <td>920.00</td>\n",
       "      <td>122</td>\n",
       "      <td>121</td>\n",
       "      <td>129.0</td>\n",
       "    </tr>\n",
       "    <tr>\n",
       "      <th>1</th>\n",
       "      <td>qt1h-40</td>\n",
       "      <td>6</td>\n",
       "      <td>48</td>\n",
       "      <td>240</td>\n",
       "      <td>1100.00</td>\n",
       "      <td>112</td>\n",
       "      <td>108</td>\n",
       "      <td>108.0</td>\n",
       "    </tr>\n",
       "  </tbody>\n",
       "</table>\n",
       "</div>"
      ],
      "text/plain": [
       "     Queue  Nb Noeuds  Workers  Cores  Memory in GB  Resultat1 in sec  \\\n",
       "0     qdev          1        4     16         64.42               516   \n",
       "7    qt72h          1        6     24        128.85               719   \n",
       "6  qt1h-40          1        8     40        197.57              1486   \n",
       "4  qt1h-28          2       14     56        368.06               203   \n",
       "5  qt1h-40          2       16     80        195.00               211   \n",
       "3  qt1h-28          4       28    112        736.12               135   \n",
       "2  qt1h-40          5       40    200        920.00               122   \n",
       "1  qt1h-40          6       48    240       1100.00               112   \n",
       "\n",
       "   Resultat2 in sec  Resultat3 in sec  \n",
       "0               478             474.0  \n",
       "7               700             710.0  \n",
       "6              1541            1540.0  \n",
       "4               221             192.0  \n",
       "5               192               NaN  \n",
       "3               136             133.0  \n",
       "2               121             129.0  \n",
       "1               108             108.0  "
      ]
     },
     "execution_count": 41,
     "metadata": {},
     "output_type": "execute_result"
    }
   ],
   "source": [
    "ds_multi"
   ]
  },
  {
   "cell_type": "code",
   "execution_count": 42,
   "metadata": {},
   "outputs": [],
   "source": [
    "qt1h_40=ds_multi[ds_multi['Queue']=='qt1h-40']\n",
    "workers_qt1h_40=qt1h_40['Workers']\n",
    "cores_qt1h_40=qt1h_40['Cores']\n",
    "memory_qt1h_40=qt1h_40['Memory in GB']\n",
    "results_qt1h_40=qt1h_40[['Resultat1 in sec','Resultat2 in sec','Resultat3 in sec']]\n",
    "mean_results_qt1h_40=results_qt1h_40.mean(axis=1)"
   ]
  },
  {
   "cell_type": "code",
   "execution_count": 43,
   "metadata": {},
   "outputs": [],
   "source": [
    "qt1h_28=ds_multi[ds_multi['Queue']=='qt1h-28']\n",
    "workers_qt1h_28=qt1h_28['Workers']\n",
    "cores_qt1h_28=qt1h_28['Cores']\n",
    "memory_qt1h_28=qt1h_28['Memory in GB']\n",
    "results_qt1h_28=qt1h_28[['Resultat1 in sec','Resultat2 in sec','Resultat3 in sec']]\n",
    "mean_results_qt1h_28=results_qt1h_28.mean(axis=1)"
   ]
  },
  {
   "cell_type": "code",
   "execution_count": 44,
   "metadata": {},
   "outputs": [],
   "source": [
    "min_cores_qt1h_40=cores_qt1h_40.min()\n",
    "argmin_cores_qt1h_40=cores_qt1h_40.idxmin()\n",
    "result_min_qt1h_40=mean_results_qt1h_40[argmin_cores_qt1h_40]\n",
    "scale_qt1h_40=result_min_qt1h_40/(cores_qt1h_40/min_cores_qt1h_40)"
   ]
  },
  {
   "cell_type": "code",
   "execution_count": 45,
   "metadata": {},
   "outputs": [],
   "source": [
    "min_cores_qt1h_28=cores_qt1h_28.min()\n",
    "argmin_cores_qt1h_28=cores_qt1h_28.idxmin()\n",
    "result_min_qt1h_28=mean_results_qt1h_28[argmin_cores_qt1h_28]\n",
    "scale_qt1h_28=result_min_qt1h_28/(cores_qt1h_28/min_cores_qt1h_28)"
   ]
  },
  {
   "cell_type": "code",
   "execution_count": 46,
   "metadata": {},
   "outputs": [
    {
     "name": "stderr",
     "output_type": "stream",
     "text": [
      "/Users/auraoupa/anaconda2/envs/pangeo-cloud/lib/python3.6/site-packages/matplotlib/cbook/__init__.py:1377: FutureWarning: Support for multi-dimensional indexing (e.g. `obj[:, None]`) is deprecated and will be removed in a future version.  Convert to a numpy array before indexing instead.\n",
      "  x[:, None]\n",
      "/Users/auraoupa/anaconda2/envs/pangeo-cloud/lib/python3.6/site-packages/matplotlib/axes/_base.py:237: FutureWarning: Support for multi-dimensional indexing (e.g. `obj[:, None]`) is deprecated and will be removed in a future version.  Convert to a numpy array before indexing instead.\n",
      "  x = x[:, np.newaxis]\n",
      "/Users/auraoupa/anaconda2/envs/pangeo-cloud/lib/python3.6/site-packages/matplotlib/axes/_base.py:239: FutureWarning: Support for multi-dimensional indexing (e.g. `obj[:, None]`) is deprecated and will be removed in a future version.  Convert to a numpy array before indexing instead.\n",
      "  y = y[:, np.newaxis]\n"
     ]
    },
    {
     "data": {
      "image/png": "[encoded data removed]",
      "text/plain": [
       "<Figure size 432x288 with 1 Axes>"
      ]
     },
     "metadata": {
      "needs_background": "light"
     },
     "output_type": "display_data"
    }
   ],
   "source": [
    "fig, ax = plt.subplots()\n",
    "fig.figsize=(8, 8)\n",
    "plt.errorbar(cores_qt1h_40, results_qt1h_40.mean(axis=1), yerr=results_qt1h_40.std(axis=1),\n",
    "             ls='-',marker='o',ms=3,color='darkorange', \n",
    "             label='result HAL ')\n",
    "plt.plot(cores_qt1h_40, scale_qt1h_40, \n",
    "             ls=':',marker='o',ms=3,color='darkorange', \n",
    "             label='scalable HAL ')\n",
    "plt.errorbar(cores_qt1h_28, results_qt1h_28.mean(axis=1), yerr=results_qt1h_28.std(axis=1),\n",
    "             ls='-',marker='o',ms=3,color='tomato', \n",
    "             label='result HAL ')\n",
    "plt.plot(cores_qt1h_28, scale_qt1h_28, \n",
    "             ls=':',marker='o',ms=3,color='tomato', \n",
    "             label='scalable HAL ')\n",
    "\n",
    "plt.legend(loc='center left', bbox_to_anchor=(0.5, 0.5))\n",
    "plt.xlabel('Number of Cores')\n",
    "plt.ylabel('Walltime in seconds')\n",
    "plt.title('Performance tests on HAL nodes')\n",
    "plt.savefig('Perf-hal-cores-multi.png', bbox_inches='tight')"
   ]
  },
  {
   "cell_type": "code",
   "execution_count": null,
   "metadata": {},
   "outputs": [],
   "source": []
  }
 ],
 "metadata": {
  "kernelspec": {
   "display_name": "pangeo_cloud",
   "language": "python",
   "name": "pangeo-cloud"
  },
  "language_info": {
   "codemirror_mode": {
    "name": "ipython",
    "version": 3
   },
   "file_extension": ".py",
   "mimetype": "text/x-python",
   "name": "python",
   "nbconvert_exporter": "python",
   "pygments_lexer": "ipython3",
   "version": "3.6.7"
  }
 },
 "nbformat": 4,
 "nbformat_minor": 2
}
