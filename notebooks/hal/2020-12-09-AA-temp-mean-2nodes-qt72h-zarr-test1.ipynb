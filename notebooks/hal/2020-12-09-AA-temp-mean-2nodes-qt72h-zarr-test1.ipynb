{
 "cells": [
  {
   "cell_type": "code",
   "execution_count": 1,
   "metadata": {},
   "outputs": [],
   "source": [
    "import zarr\n",
    "import xarray as xr\n",
    "import time\n",
    "import dask"
   ]
  },
  {
   "cell_type": "code",
   "execution_count": 2,
   "metadata": {},
   "outputs": [],
   "source": [
    "queue='qt72h'\n",
    "nb_worker_per_job=40\n",
    "memory='184GB'\n",
    "nb_job=2"
   ]
  },
  {
   "cell_type": "code",
   "execution_count": 3,
   "metadata": {},
   "outputs": [
    {
     "name": "stderr",
     "output_type": "stream",
     "text": [
      "/home/ad/alberta/.conda/envs/perf-pangeo/lib/python3.6/site-packages/distributed/node.py:155: UserWarning: Port 8787 is already in use.\n",
      "Perhaps you already have a cluster running?\n",
      "Hosting the HTTP server on port 45919 instead\n",
      "  http_address[\"port\"], self.http_server.port\n",
      "Task exception was never retrieved\n",
      "future: <Task finished coro=<_wrap_awaitable() done, defined at /home/ad/alberta/.conda/envs/perf-pangeo/lib/python3.6/asyncio/tasks.py:530> exception=RuntimeError('Command exited with non-zero exit code.\\nExit code: 174\\nCommand:\\nqsub /tmp/pbs.2586133.admin01/tmp9uvc8_fe.sh\\nstdout:\\n\\nstderr:\\nqsub: Access to queue is denied\\n\\n',)>\n",
      "Traceback (most recent call last):\n",
      "  File \"/home/ad/alberta/.conda/envs/perf-pangeo/lib/python3.6/asyncio/tasks.py\", line 537, in _wrap_awaitable\n",
      "    return (yield from awaitable.__await__())\n",
      "  File \"/home/ad/alberta/.conda/envs/perf-pangeo/lib/python3.6/site-packages/distributed/deploy/spec.py\", line 50, in _\n",
      "    await self.start()\n",
      "  File \"/home/ad/alberta/.conda/envs/perf-pangeo/lib/python3.6/site-packages/dask_jobqueue/core.py\", line 310, in start\n",
      "    out = await self._submit_job(fn)\n",
      "  File \"/home/ad/alberta/.conda/envs/perf-pangeo/lib/python3.6/site-packages/dask_jobqueue/core.py\", line 293, in _submit_job\n",
      "    return self._call(shlex.split(self.submit_command) + [script_filename])\n",
      "  File \"/home/ad/alberta/.conda/envs/perf-pangeo/lib/python3.6/site-packages/dask_jobqueue/core.py\", line 393, in _call\n",
      "    \"stderr:\\n{}\\n\".format(proc.returncode, cmd_str, out, err)\n",
      "RuntimeError: Command exited with non-zero exit code.\n",
      "Exit code: 174\n",
      "Command:\n",
      "qsub /tmp/pbs.2586133.admin01/tmp9uvc8_fe.sh\n",
      "stdout:\n",
      "\n",
      "stderr:\n",
      "qsub: Access to queue is denied\n",
      "\n",
      "\n",
      "Task exception was never retrieved\n",
      "future: <Task finished coro=<_wrap_awaitable() done, defined at /home/ad/alberta/.conda/envs/perf-pangeo/lib/python3.6/asyncio/tasks.py:530> exception=RuntimeError('Command exited with non-zero exit code.\\nExit code: 174\\nCommand:\\nqsub /tmp/pbs.2586133.admin01/tmpapidebel.sh\\nstdout:\\n\\nstderr:\\nqsub: Access to queue is denied\\n\\n',)>\n",
      "Traceback (most recent call last):\n",
      "  File \"/home/ad/alberta/.conda/envs/perf-pangeo/lib/python3.6/asyncio/tasks.py\", line 537, in _wrap_awaitable\n",
      "    return (yield from awaitable.__await__())\n",
      "  File \"/home/ad/alberta/.conda/envs/perf-pangeo/lib/python3.6/site-packages/distributed/deploy/spec.py\", line 50, in _\n",
      "    await self.start()\n",
      "  File \"/home/ad/alberta/.conda/envs/perf-pangeo/lib/python3.6/site-packages/dask_jobqueue/core.py\", line 310, in start\n",
      "    out = await self._submit_job(fn)\n",
      "  File \"/home/ad/alberta/.conda/envs/perf-pangeo/lib/python3.6/site-packages/dask_jobqueue/core.py\", line 293, in _submit_job\n",
      "    return self._call(shlex.split(self.submit_command) + [script_filename])\n",
      "  File \"/home/ad/alberta/.conda/envs/perf-pangeo/lib/python3.6/site-packages/dask_jobqueue/core.py\", line 393, in _call\n",
      "    \"stderr:\\n{}\\n\".format(proc.returncode, cmd_str, out, err)\n",
      "RuntimeError: Command exited with non-zero exit code.\n",
      "Exit code: 174\n",
      "Command:\n",
      "qsub /tmp/pbs.2586133.admin01/tmpapidebel.sh\n",
      "stdout:\n",
      "\n",
      "stderr:\n",
      "qsub: Access to queue is denied\n",
      "\n",
      "\n",
      "tornado.application - ERROR - Exception in callback functools.partial(<bound method IOLoop._discard_future_result of <zmq.eventloop.ioloop.ZMQIOLoop object at 0x2b42e450c390>>, <Task finished coro=<SpecCluster._correct_state_internal() done, defined at /home/ad/alberta/.conda/envs/perf-pangeo/lib/python3.6/site-packages/distributed/deploy/spec.py:300> exception=RuntimeError('Command exited with non-zero exit code.\\nExit code: 174\\nCommand:\\nqsub /tmp/pbs.2586133.admin01/tmp2kgtgnnk.sh\\nstdout:\\n\\nstderr:\\nqsub: Access to queue is denied\\n\\n',)>)\n",
      "Traceback (most recent call last):\n",
      "  File \"/home/ad/alberta/.conda/envs/perf-pangeo/lib/python3.6/site-packages/tornado/ioloop.py\", line 743, in _run_callback\n",
      "    ret = callback()\n",
      "  File \"/home/ad/alberta/.conda/envs/perf-pangeo/lib/python3.6/site-packages/tornado/ioloop.py\", line 767, in _discard_future_result\n",
      "    future.result()\n",
      "  File \"/home/ad/alberta/.conda/envs/perf-pangeo/lib/python3.6/site-packages/distributed/deploy/spec.py\", line 335, in _correct_state_internal\n",
      "    await w  # for tornado gen.coroutine support\n",
      "  File \"/home/ad/alberta/.conda/envs/perf-pangeo/lib/python3.6/site-packages/distributed/deploy/spec.py\", line 50, in _\n",
      "    await self.start()\n",
      "  File \"/home/ad/alberta/.conda/envs/perf-pangeo/lib/python3.6/site-packages/dask_jobqueue/core.py\", line 310, in start\n",
      "    out = await self._submit_job(fn)\n",
      "  File \"/home/ad/alberta/.conda/envs/perf-pangeo/lib/python3.6/site-packages/dask_jobqueue/core.py\", line 293, in _submit_job\n",
      "    return self._call(shlex.split(self.submit_command) + [script_filename])\n",
      "  File \"/home/ad/alberta/.conda/envs/perf-pangeo/lib/python3.6/site-packages/dask_jobqueue/core.py\", line 393, in _call\n",
      "    \"stderr:\\n{}\\n\".format(proc.returncode, cmd_str, out, err)\n",
      "RuntimeError: Command exited with non-zero exit code.\n",
      "Exit code: 174\n",
      "Command:\n",
      "qsub /tmp/pbs.2586133.admin01/tmp2kgtgnnk.sh\n",
      "stdout:\n",
      "\n",
      "stderr:\n",
      "qsub: Access to queue is denied\n",
      "\n",
      "\n",
      "Task exception was never retrieved\n",
      "future: <Task finished coro=<_wrap_awaitable() done, defined at /home/ad/alberta/.conda/envs/perf-pangeo/lib/python3.6/asyncio/tasks.py:530> exception=RuntimeError('Command exited with non-zero exit code.\\nExit code: 174\\nCommand:\\nqsub /tmp/pbs.2586133.admin01/tmpttufvwlr.sh\\nstdout:\\n\\nstderr:\\nqsub: Access to queue is denied\\n\\n',)>\n",
      "Traceback (most recent call last):\n",
      "  File \"/home/ad/alberta/.conda/envs/perf-pangeo/lib/python3.6/asyncio/tasks.py\", line 537, in _wrap_awaitable\n",
      "    return (yield from awaitable.__await__())\n",
      "  File \"/home/ad/alberta/.conda/envs/perf-pangeo/lib/python3.6/site-packages/distributed/deploy/spec.py\", line 50, in _\n",
      "    await self.start()\n",
      "  File \"/home/ad/alberta/.conda/envs/perf-pangeo/lib/python3.6/site-packages/dask_jobqueue/core.py\", line 310, in start\n",
      "    out = await self._submit_job(fn)\n",
      "  File \"/home/ad/alberta/.conda/envs/perf-pangeo/lib/python3.6/site-packages/dask_jobqueue/core.py\", line 293, in _submit_job\n",
      "    return self._call(shlex.split(self.submit_command) + [script_filename])\n",
      "  File \"/home/ad/alberta/.conda/envs/perf-pangeo/lib/python3.6/site-packages/dask_jobqueue/core.py\", line 393, in _call\n",
      "    \"stderr:\\n{}\\n\".format(proc.returncode, cmd_str, out, err)\n",
      "RuntimeError: Command exited with non-zero exit code.\n",
      "Exit code: 174\n",
      "Command:\n",
      "qsub /tmp/pbs.2586133.admin01/tmpttufvwlr.sh\n",
      "stdout:\n",
      "\n",
      "stderr:\n",
      "qsub: Access to queue is denied\n",
      "\n",
      "\n",
      "Task exception was never retrieved\n",
      "future: <Task finished coro=<_wrap_awaitable() done, defined at /home/ad/alberta/.conda/envs/perf-pangeo/lib/python3.6/asyncio/tasks.py:530> exception=RuntimeError('Command exited with non-zero exit code.\\nExit code: 174\\nCommand:\\nqsub /tmp/pbs.2586133.admin01/tmpta19ywzu.sh\\nstdout:\\n\\nstderr:\\nqsub: Access to queue is denied\\n\\n',)>\n",
      "Traceback (most recent call last):\n",
      "  File \"/home/ad/alberta/.conda/envs/perf-pangeo/lib/python3.6/asyncio/tasks.py\", line 537, in _wrap_awaitable\n",
      "    return (yield from awaitable.__await__())\n",
      "  File \"/home/ad/alberta/.conda/envs/perf-pangeo/lib/python3.6/site-packages/distributed/deploy/spec.py\", line 50, in _\n",
      "    await self.start()\n",
      "  File \"/home/ad/alberta/.conda/envs/perf-pangeo/lib/python3.6/site-packages/dask_jobqueue/core.py\", line 310, in start\n",
      "    out = await self._submit_job(fn)\n",
      "  File \"/home/ad/alberta/.conda/envs/perf-pangeo/lib/python3.6/site-packages/dask_jobqueue/core.py\", line 293, in _submit_job\n",
      "    return self._call(shlex.split(self.submit_command) + [script_filename])\n",
      "  File \"/home/ad/alberta/.conda/envs/perf-pangeo/lib/python3.6/site-packages/dask_jobqueue/core.py\", line 393, in _call\n",
      "    \"stderr:\\n{}\\n\".format(proc.returncode, cmd_str, out, err)\n",
      "RuntimeError: Command exited with non-zero exit code.\n",
      "Exit code: 174\n",
      "Command:\n",
      "qsub /tmp/pbs.2586133.admin01/tmpta19ywzu.sh\n",
      "stdout:\n",
      "\n",
      "stderr:\n",
      "qsub: Access to queue is denied\n",
      "\n",
      "\n"
     ]
    },
    {
     "data": {
      "text/html": [
       "<table style=\"border: 2px solid white;\">\n",
       "<tr>\n",
       "<td style=\"vertical-align: top; border: 0px solid white\">\n",
       "<h3 style=\"text-align: left;\">Client</h3>\n",
       "<ul style=\"text-align: left; list-style: none; margin: 0; padding: 0;\">\n",
       "  <li><b>Scheduler: </b>tcp://10.120.41.133:35586</li>\n",
       "  <li><b>Dashboard: </b><a href='http://10.120.41.133:45919/status' target='_blank'>http://10.120.41.133:45919/status</a></li>\n",
       "</ul>\n",
       "</td>\n",
       "<td style=\"vertical-align: top; border: 0px solid white\">\n",
       "<h3 style=\"text-align: left;\">Cluster</h3>\n",
       "<ul style=\"text-align: left; list-style:none; margin: 0; padding: 0;\">\n",
       "  <li><b>Workers: </b>0</li>\n",
       "  <li><b>Cores: </b>0</li>\n",
       "  <li><b>Memory: </b>0 B</li>\n",
       "</ul>\n",
       "</td>\n",
       "</tr>\n",
       "</table>"
      ],
      "text/plain": [
       "<Client: 'tcp://10.120.41.133:35586' processes=0 threads=0, memory=0 B>"
      ]
     },
     "execution_count": 3,
     "metadata": {},
     "output_type": "execute_result"
    }
   ],
   "source": [
    "from dask_jobqueue import PBSCluster\n",
    "from dask.distributed import Client\n",
    "import dask.dataframe as dd\n",
    "\n",
    "cluster = PBSCluster(processes=nb_worker_per_job,cores=nb_worker_per_job, memory=memory,queue=queue,env_extra=['--exclusive'],project='PerfTestPangeo', walltime='00:30:00')\n",
    "cluster.scale(nb_job*nb_worker_per_job)\n",
    "\n",
    "c = Client(cluster)\n",
    "\n",
    "c\n"
   ]
  },
  {
   "cell_type": "code",
   "execution_count": null,
   "metadata": {},
   "outputs": [],
   "source": [
    "from dask.utils import ensure_dict, format_bytes\n",
    "    \n",
    "wk = c.scheduler_info()[\"workers\"]\n",
    "\n",
    "text=\"Workers= \" + str(len(wk))\n",
    "memory = [w[\"memory_limit\"] for w in wk.values()]\n",
    "cores = sum(w[\"nthreads\"] for w in wk.values())\n",
    "text += \", Cores=\" + str(cores)\n",
    "if all(memory):\n",
    "    text += \", Memory=\" + format_bytes(sum(memory))\n",
    "print(text)\n"
   ]
  },
  {
   "cell_type": "code",
   "execution_count": null,
   "metadata": {},
   "outputs": [],
   "source": [
    "%time ds=xr.open_zarr('/work/ALT/odatis/eNATL60/zarr/eNATL60-BLBT02-SSH-1h')"
   ]
  },
  {
   "cell_type": "code",
   "execution_count": null,
   "metadata": {},
   "outputs": [],
   "source": [
    "%time mean=ds.sossheig.mean(dim='time_counter')"
   ]
  },
  {
   "cell_type": "code",
   "execution_count": null,
   "metadata": {},
   "outputs": [],
   "source": [
    "%time mean.load()"
   ]
  },
  {
   "cell_type": "code",
   "execution_count": null,
   "metadata": {},
   "outputs": [],
   "source": [
    "c.close()\n",
    "cluster.close()"
   ]
  },
  {
   "cell_type": "code",
   "execution_count": null,
   "metadata": {},
   "outputs": [],
   "source": []
  }
 ],
 "metadata": {
  "kernelspec": {
   "display_name": "perf-pangeo",
   "language": "python",
   "name": "perf-pangeo"
  },
  "language_info": {
   "codemirror_mode": {
    "name": "ipython",
    "version": 3
   },
   "file_extension": ".py",
   "mimetype": "text/x-python",
   "name": "python",
   "nbconvert_exporter": "python",
   "pygments_lexer": "ipython3",
   "version": "3.6.10"
  }
 },
 "nbformat": 4,
 "nbformat_minor": 4
}
