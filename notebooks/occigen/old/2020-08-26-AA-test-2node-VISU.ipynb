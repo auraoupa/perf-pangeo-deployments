{
 "cells": [
  {
   "cell_type": "markdown",
   "metadata": {},
   "source": [
    "# The imports"
   ]
  },
  {
   "cell_type": "code",
   "execution_count": 1,
   "metadata": {},
   "outputs": [],
   "source": [
    "import zarr\n",
    "import xarray as xr\n",
    "import time\n",
    "import dask"
   ]
  },
  {
   "cell_type": "markdown",
   "metadata": {},
   "source": [
    "# The workers"
   ]
  },
  {
   "cell_type": "code",
   "execution_count": 7,
   "metadata": {},
   "outputs": [
    {
     "name": "stderr",
     "output_type": "stream",
     "text": [
      "/scratch/cnt0024/hmg2840/albert7a/DEV/git/conda-pack/perf-pangeo/lib/python3.6/site-packages/distributed/node.py:155: UserWarning: Port 8787 is already in use.\n",
      "Perhaps you already have a cluster running?\n",
      "Hosting the HTTP server on port 38967 instead\n",
      "  http_address[\"port\"], self.http_server.port\n",
      "Task exception was never retrieved\n",
      "future: <Task finished coro=<_wrap_awaitable() done, defined at /scratch/cnt0024/hmg2840/albert7a/DEV/git/conda-pack/perf-pangeo/lib/python3.6/asyncio/tasks.py:530> exception=RuntimeError(\"Command exited with non-zero exit code.\\nExit code: 1\\nCommand:\\nsbatch /tmp/tmp8uod_bd0.sh\\nstdout:\\n\\nstderr:\\nsbatch: error: Batch job submission failed: Job violates accounting/QOS policy (job submit limit, user's size and/or time limits)\\n\\n\",)>\n",
      "Traceback (most recent call last):\n",
      "  File \"/scratch/cnt0024/hmg2840/albert7a/DEV/git/conda-pack/perf-pangeo/lib/python3.6/asyncio/tasks.py\", line 537, in _wrap_awaitable\n",
      "    return (yield from awaitable.__await__())\n",
      "  File \"/scratch/cnt0024/hmg2840/albert7a/DEV/git/conda-pack/perf-pangeo/lib/python3.6/site-packages/distributed/deploy/spec.py\", line 50, in _\n",
      "    await self.start()\n",
      "  File \"/scratch/cnt0024/hmg2840/albert7a/DEV/git/conda-pack/perf-pangeo/lib/python3.6/site-packages/dask_jobqueue/core.py\", line 285, in start\n",
      "    out = await self._submit_job(fn)\n",
      "  File \"/scratch/cnt0024/hmg2840/albert7a/DEV/git/conda-pack/perf-pangeo/lib/python3.6/site-packages/dask_jobqueue/core.py\", line 268, in _submit_job\n",
      "    return self._call(shlex.split(self.submit_command) + [script_filename])\n",
      "  File \"/scratch/cnt0024/hmg2840/albert7a/DEV/git/conda-pack/perf-pangeo/lib/python3.6/site-packages/dask_jobqueue/core.py\", line 368, in _call\n",
      "    \"stderr:\\n{}\\n\".format(proc.returncode, cmd_str, out, err)\n",
      "RuntimeError: Command exited with non-zero exit code.\n",
      "Exit code: 1\n",
      "Command:\n",
      "sbatch /tmp/tmp8uod_bd0.sh\n",
      "stdout:\n",
      "\n",
      "stderr:\n",
      "sbatch: error: Batch job submission failed: Job violates accounting/QOS policy (job submit limit, user's size and/or time limits)\n",
      "\n",
      "\n",
      "tornado.application - ERROR - Exception in callback functools.partial(<bound method IOLoop._discard_future_result of <zmq.eventloop.ioloop.ZMQIOLoop object at 0x2b5f91880dd8>>, <Task finished coro=<SpecCluster._correct_state_internal() done, defined at /scratch/cnt0024/hmg2840/albert7a/DEV/git/conda-pack/perf-pangeo/lib/python3.6/site-packages/distributed/deploy/spec.py:300> exception=RuntimeError(\"Command exited with non-zero exit code.\\nExit code: 1\\nCommand:\\nsbatch /tmp/tmpzsggq6c5.sh\\nstdout:\\n\\nstderr:\\nsbatch: error: Batch job submission failed: Job violates accounting/QOS policy (job submit limit, user's size and/or time limits)\\n\\n\",)>)\n",
      "Traceback (most recent call last):\n",
      "  File \"/scratch/cnt0024/hmg2840/albert7a/DEV/git/conda-pack/perf-pangeo/lib/python3.6/site-packages/tornado/ioloop.py\", line 743, in _run_callback\n",
      "    ret = callback()\n",
      "  File \"/scratch/cnt0024/hmg2840/albert7a/DEV/git/conda-pack/perf-pangeo/lib/python3.6/site-packages/tornado/ioloop.py\", line 767, in _discard_future_result\n",
      "    future.result()\n",
      "  File \"/scratch/cnt0024/hmg2840/albert7a/DEV/git/conda-pack/perf-pangeo/lib/python3.6/site-packages/distributed/deploy/spec.py\", line 335, in _correct_state_internal\n",
      "    await w  # for tornado gen.coroutine support\n",
      "  File \"/scratch/cnt0024/hmg2840/albert7a/DEV/git/conda-pack/perf-pangeo/lib/python3.6/site-packages/distributed/deploy/spec.py\", line 50, in _\n",
      "    await self.start()\n",
      "  File \"/scratch/cnt0024/hmg2840/albert7a/DEV/git/conda-pack/perf-pangeo/lib/python3.6/site-packages/dask_jobqueue/core.py\", line 285, in start\n",
      "    out = await self._submit_job(fn)\n",
      "  File \"/scratch/cnt0024/hmg2840/albert7a/DEV/git/conda-pack/perf-pangeo/lib/python3.6/site-packages/dask_jobqueue/core.py\", line 268, in _submit_job\n",
      "    return self._call(shlex.split(self.submit_command) + [script_filename])\n",
      "  File \"/scratch/cnt0024/hmg2840/albert7a/DEV/git/conda-pack/perf-pangeo/lib/python3.6/site-packages/dask_jobqueue/core.py\", line 368, in _call\n",
      "    \"stderr:\\n{}\\n\".format(proc.returncode, cmd_str, out, err)\n",
      "RuntimeError: Command exited with non-zero exit code.\n",
      "Exit code: 1\n",
      "Command:\n",
      "sbatch /tmp/tmpzsggq6c5.sh\n",
      "stdout:\n",
      "\n",
      "stderr:\n",
      "sbatch: error: Batch job submission failed: Job violates accounting/QOS policy (job submit limit, user's size and/or time limits)\n",
      "\n",
      "\n",
      "Task exception was never retrieved\n",
      "future: <Task finished coro=<_wrap_awaitable() done, defined at /scratch/cnt0024/hmg2840/albert7a/DEV/git/conda-pack/perf-pangeo/lib/python3.6/asyncio/tasks.py:530> exception=RuntimeError(\"Command exited with non-zero exit code.\\nExit code: 1\\nCommand:\\nsbatch /tmp/tmp_d1txi8b.sh\\nstdout:\\n\\nstderr:\\nsbatch: error: Batch job submission failed: Job violates accounting/QOS policy (job submit limit, user's size and/or time limits)\\n\\n\",)>\n",
      "Traceback (most recent call last):\n",
      "  File \"/scratch/cnt0024/hmg2840/albert7a/DEV/git/conda-pack/perf-pangeo/lib/python3.6/asyncio/tasks.py\", line 537, in _wrap_awaitable\n",
      "    return (yield from awaitable.__await__())\n",
      "  File \"/scratch/cnt0024/hmg2840/albert7a/DEV/git/conda-pack/perf-pangeo/lib/python3.6/site-packages/distributed/deploy/spec.py\", line 50, in _\n",
      "    await self.start()\n",
      "  File \"/scratch/cnt0024/hmg2840/albert7a/DEV/git/conda-pack/perf-pangeo/lib/python3.6/site-packages/dask_jobqueue/core.py\", line 285, in start\n",
      "    out = await self._submit_job(fn)\n",
      "  File \"/scratch/cnt0024/hmg2840/albert7a/DEV/git/conda-pack/perf-pangeo/lib/python3.6/site-packages/dask_jobqueue/core.py\", line 268, in _submit_job\n",
      "    return self._call(shlex.split(self.submit_command) + [script_filename])\n",
      "  File \"/scratch/cnt0024/hmg2840/albert7a/DEV/git/conda-pack/perf-pangeo/lib/python3.6/site-packages/dask_jobqueue/core.py\", line 368, in _call\n",
      "    \"stderr:\\n{}\\n\".format(proc.returncode, cmd_str, out, err)\n",
      "RuntimeError: Command exited with non-zero exit code.\n",
      "Exit code: 1\n",
      "Command:\n",
      "sbatch /tmp/tmp_d1txi8b.sh\n",
      "stdout:\n",
      "\n",
      "stderr:\n",
      "sbatch: error: Batch job submission failed: Job violates accounting/QOS policy (job submit limit, user's size and/or time limits)\n",
      "\n",
      "\n"
     ]
    },
    {
     "data": {
      "text/html": [
       "<table style=\"border: 2px solid white;\">\n",
       "<tr>\n",
       "<td style=\"vertical-align: top; border: 0px solid white\">\n",
       "<h3 style=\"text-align: left;\">Client</h3>\n",
       "<ul style=\"text-align: left; list-style: none; margin: 0; padding: 0;\">\n",
       "  <li><b>Scheduler: </b>tcp://172.30.150.6:33391</li>\n",
       "  <li><b>Dashboard: </b><a href='http://172.30.150.6:38967/status' target='_blank'>http://172.30.150.6:38967/status</a></li>\n",
       "</ul>\n",
       "</td>\n",
       "<td style=\"vertical-align: top; border: 0px solid white\">\n",
       "<h3 style=\"text-align: left;\">Cluster</h3>\n",
       "<ul style=\"text-align: left; list-style:none; margin: 0; padding: 0;\">\n",
       "  <li><b>Workers: </b>0</li>\n",
       "  <li><b>Cores: </b>0</li>\n",
       "  <li><b>Memory: </b>0 B</li>\n",
       "</ul>\n",
       "</td>\n",
       "</tr>\n",
       "</table>"
      ],
      "text/plain": [
       "<Client: 'tcp://172.30.150.6:33391' processes=0 threads=0, memory=0 B>"
      ]
     },
     "execution_count": 7,
     "metadata": {},
     "output_type": "execute_result"
    }
   ],
   "source": [
    "from dask_jobqueue import SLURMCluster \n",
    "from dask.distributed import Client \n",
    "  \n",
    "cluster = SLURMCluster(cores=56,name='pangeo',walltime='00:30:00',\n",
    "                       job_extra=['--constraint=VISU','--exclusive',\n",
    "                                  '--nodes=1'],memory='118GB',\n",
    "                       interface='ib0') \n",
    "cluster.scale(8)\n",
    "c= Client(cluster)\n",
    "c\n",
    "\n"
   ]
  },
  {
   "cell_type": "markdown",
   "metadata": {},
   "source": [
    "# The data"
   ]
  },
  {
   "cell_type": "code",
   "execution_count": null,
   "metadata": {},
   "outputs": [],
   "source": [
    "%time ds=xr.open_zarr('/store/albert7a/eNATL60/zarr/eNATL60-BLBT02-SSH-1h')"
   ]
  },
  {
   "cell_type": "code",
   "execution_count": null,
   "metadata": {},
   "outputs": [],
   "source": [
    "%time mean=ds.sossheig.mean(dim='time_counter')"
   ]
  },
  {
   "cell_type": "code",
   "execution_count": null,
   "metadata": {},
   "outputs": [],
   "source": [
    "%time mean.load()"
   ]
  },
  {
   "cell_type": "code",
   "execution_count": null,
   "metadata": {},
   "outputs": [],
   "source": [
    "cluster.close()"
   ]
  },
  {
   "cell_type": "code",
   "execution_count": null,
   "metadata": {},
   "outputs": [],
   "source": []
  }
 ],
 "metadata": {
  "kernelspec": {
   "display_name": "perf-pangeo",
   "language": "python",
   "name": "perf-pangeo"
  },
  "language_info": {
   "codemirror_mode": {
    "name": "ipython",
    "version": 3
   },
   "file_extension": ".py",
   "mimetype": "text/x-python",
   "name": "python",
   "nbconvert_exporter": "python",
   "pygments_lexer": "ipython3",
   "version": "3.6.10"
  }
 },
 "nbformat": 4,
 "nbformat_minor": 4
}
