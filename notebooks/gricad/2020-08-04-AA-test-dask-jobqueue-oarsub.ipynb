{
 "cells": [
  {
   "cell_type": "markdown",
   "metadata": {},
   "source": [
    "```oarsub -I --project data-ocean -p \"cpumodel = 'Gold 5218'\" -l /core=2,walltime=4:00:00```"
   ]
  },
  {
   "cell_type": "markdown",
   "metadata": {},
   "source": [
    "## The imports"
   ]
  },
  {
   "cell_type": "code",
   "execution_count": 1,
   "metadata": {},
   "outputs": [],
   "source": [
    "import zarr\n",
    "import xarray as xr\n",
    "import time\n",
    "import dask"
   ]
  },
  {
   "cell_type": "markdown",
   "metadata": {},
   "source": [
    "# The workers"
   ]
  },
  {
   "cell_type": "code",
   "execution_count": 2,
   "metadata": {},
   "outputs": [],
   "source": [
    "ask_cores=2\n",
    "ask_memory=4.2 #in GB"
   ]
  },
  {
   "cell_type": "code",
   "execution_count": 4,
   "metadata": {},
   "outputs": [
    {
     "name": "stderr",
     "output_type": "stream",
     "text": [
      "Task exception was never retrieved\n",
      "future: <Task finished coro=<_wrap_awaitable() done, defined at /home/alberta/miniconda2/envs/perf-pangeo/lib/python3.6/asyncio/tasks.py:530> exception=FileNotFoundError(2, \"No such file or directory: 'oarsub'\")>\n",
      "Traceback (most recent call last):\n",
      "  File \"/home/alberta/miniconda2/envs/perf-pangeo/lib/python3.6/asyncio/tasks.py\", line 537, in _wrap_awaitable\n",
      "    return (yield from awaitable.__await__())\n",
      "  File \"/home/alberta/miniconda2/envs/perf-pangeo/lib/python3.6/site-packages/distributed/deploy/spec.py\", line 50, in _\n",
      "    await self.start()\n",
      "  File \"/home/alberta/miniconda2/envs/perf-pangeo/lib/python3.6/site-packages/dask_jobqueue/core.py\", line 310, in start\n",
      "    out = await self._submit_job(fn)\n",
      "  File \"/home/alberta/miniconda2/envs/perf-pangeo/lib/python3.6/site-packages/dask_jobqueue/oar.py\", line 97, in _submit_job\n",
      "    return self._call(oarsub_command_split)\n",
      "  File \"/home/alberta/miniconda2/envs/perf-pangeo/lib/python3.6/site-packages/dask_jobqueue/core.py\", line 381, in _call\n",
      "    cmd, stdout=subprocess.PIPE, stderr=subprocess.PIPE, **kwargs\n",
      "  File \"/home/alberta/miniconda2/envs/perf-pangeo/lib/python3.6/subprocess.py\", line 729, in __init__\n",
      "    restore_signals, start_new_session)\n",
      "  File \"/home/alberta/miniconda2/envs/perf-pangeo/lib/python3.6/subprocess.py\", line 1364, in _execute_child\n",
      "    raise child_exception_type(errno_num, err_msg, err_filename)\n",
      "FileNotFoundError: [Errno 2] No such file or directory: 'oarsub': 'oarsub'\n",
      "tornado.application - ERROR - Exception in callback functools.partial(<bound method IOLoop._discard_future_result of <zmq.eventloop.ioloop.ZMQIOLoop object at 0x7fd72522f2e8>>, <Task finished coro=<SpecCluster._correct_state_internal() done, defined at /home/alberta/miniconda2/envs/perf-pangeo/lib/python3.6/site-packages/distributed/deploy/spec.py:300> exception=FileNotFoundError(2, \"No such file or directory: 'oarsub'\")>)\n",
      "Traceback (most recent call last):\n",
      "  File \"/home/alberta/miniconda2/envs/perf-pangeo/lib/python3.6/site-packages/tornado/ioloop.py\", line 743, in _run_callback\n",
      "    ret = callback()\n",
      "  File \"/home/alberta/miniconda2/envs/perf-pangeo/lib/python3.6/site-packages/tornado/ioloop.py\", line 767, in _discard_future_result\n",
      "    future.result()\n",
      "  File \"/home/alberta/miniconda2/envs/perf-pangeo/lib/python3.6/site-packages/distributed/deploy/spec.py\", line 335, in _correct_state_internal\n",
      "    await w  # for tornado gen.coroutine support\n",
      "  File \"/home/alberta/miniconda2/envs/perf-pangeo/lib/python3.6/site-packages/distributed/deploy/spec.py\", line 50, in _\n",
      "    await self.start()\n",
      "  File \"/home/alberta/miniconda2/envs/perf-pangeo/lib/python3.6/site-packages/dask_jobqueue/core.py\", line 310, in start\n",
      "    out = await self._submit_job(fn)\n",
      "  File \"/home/alberta/miniconda2/envs/perf-pangeo/lib/python3.6/site-packages/dask_jobqueue/oar.py\", line 97, in _submit_job\n",
      "    return self._call(oarsub_command_split)\n",
      "  File \"/home/alberta/miniconda2/envs/perf-pangeo/lib/python3.6/site-packages/dask_jobqueue/core.py\", line 381, in _call\n",
      "    cmd, stdout=subprocess.PIPE, stderr=subprocess.PIPE, **kwargs\n",
      "  File \"/home/alberta/miniconda2/envs/perf-pangeo/lib/python3.6/subprocess.py\", line 729, in __init__\n",
      "    restore_signals, start_new_session)\n",
      "  File \"/home/alberta/miniconda2/envs/perf-pangeo/lib/python3.6/subprocess.py\", line 1364, in _execute_child\n",
      "    raise child_exception_type(errno_num, err_msg, err_filename)\n",
      "FileNotFoundError: [Errno 2] No such file or directory: 'oarsub': 'oarsub'\n",
      "Task exception was never retrieved\n",
      "future: <Task finished coro=<_wrap_awaitable() done, defined at /home/alberta/miniconda2/envs/perf-pangeo/lib/python3.6/asyncio/tasks.py:530> exception=FileNotFoundError(2, \"No such file or directory: 'oarsub'\")>\n",
      "Traceback (most recent call last):\n",
      "  File \"/home/alberta/miniconda2/envs/perf-pangeo/lib/python3.6/asyncio/tasks.py\", line 537, in _wrap_awaitable\n",
      "    return (yield from awaitable.__await__())\n",
      "  File \"/home/alberta/miniconda2/envs/perf-pangeo/lib/python3.6/site-packages/distributed/deploy/spec.py\", line 50, in _\n",
      "    await self.start()\n",
      "  File \"/home/alberta/miniconda2/envs/perf-pangeo/lib/python3.6/site-packages/dask_jobqueue/core.py\", line 310, in start\n",
      "    out = await self._submit_job(fn)\n",
      "  File \"/home/alberta/miniconda2/envs/perf-pangeo/lib/python3.6/site-packages/dask_jobqueue/oar.py\", line 97, in _submit_job\n",
      "    return self._call(oarsub_command_split)\n",
      "  File \"/home/alberta/miniconda2/envs/perf-pangeo/lib/python3.6/site-packages/dask_jobqueue/core.py\", line 381, in _call\n",
      "    cmd, stdout=subprocess.PIPE, stderr=subprocess.PIPE, **kwargs\n",
      "  File \"/home/alberta/miniconda2/envs/perf-pangeo/lib/python3.6/subprocess.py\", line 729, in __init__\n",
      "    restore_signals, start_new_session)\n",
      "  File \"/home/alberta/miniconda2/envs/perf-pangeo/lib/python3.6/subprocess.py\", line 1364, in _execute_child\n",
      "    raise child_exception_type(errno_num, err_msg, err_filename)\n",
      "FileNotFoundError: [Errno 2] No such file or directory: 'oarsub': 'oarsub'\n"
     ]
    },
    {
     "data": {
      "text/html": [
       "<table style=\"border: 2px solid white;\">\n",
       "<tr>\n",
       "<td style=\"vertical-align: top; border: 0px solid white\">\n",
       "<h3 style=\"text-align: left;\">Client</h3>\n",
       "<ul style=\"text-align: left; list-style: none; margin: 0; padding: 0;\">\n",
       "  <li><b>Scheduler: </b>tcp://172.18.19.112:42431</li>\n",
       "  <li><b>Dashboard: </b><a href='http://172.18.19.112:8787/status' target='_blank'>http://172.18.19.112:8787/status</a></li>\n",
       "</ul>\n",
       "</td>\n",
       "<td style=\"vertical-align: top; border: 0px solid white\">\n",
       "<h3 style=\"text-align: left;\">Cluster</h3>\n",
       "<ul style=\"text-align: left; list-style:none; margin: 0; padding: 0;\">\n",
       "  <li><b>Workers: </b>0</li>\n",
       "  <li><b>Cores: </b>0</li>\n",
       "  <li><b>Memory: </b>0 B</li>\n",
       "</ul>\n",
       "</td>\n",
       "</tr>\n",
       "</table>"
      ],
      "text/plain": [
       "<Client: 'tcp://172.18.19.112:42431' processes=0 threads=0, memory=0 B>"
      ]
     },
     "execution_count": 4,
     "metadata": {},
     "output_type": "execute_result"
    }
   ],
   "source": [
    "from dask_jobqueue import OARCluster \n",
    "from dask.distributed import Client \n",
    "  \n",
    "cluster = OARCluster(cores=ask_cores,processes=1,name='pangeo',walltime='01:30:00',\n",
    "                       job_extra=['--project data-ocean', '-p \"cpumodel = `Gold 5218`\"'],memory=str(ask_memory)+'GB',\n",
    "                       interface='ib0') \n",
    "cluster.scale(1)\n",
    "c= Client(cluster)\n",
    "c\n"
   ]
  },
  {
   "cell_type": "code",
   "execution_count": null,
   "metadata": {},
   "outputs": [],
   "source": [
    "from dask.utils import ensure_dict, format_bytes\n",
    "    \n",
    "wk = c.scheduler_info()[\"workers\"]\n",
    "\n",
    "text=\"Workers= \" + str(len(wk))\n",
    "memory = [w[\"memory_limit\"] for w in wk.values()]\n",
    "cores = sum(w[\"nthreads\"] for w in wk.values())\n",
    "text += \", Cores=\" + str(cores)\n",
    "if all(memory):\n",
    "    text += \", Memory=\" + format_bytes(sum(memory))\n",
    "print(text)"
   ]
  },
  {
   "cell_type": "markdown",
   "metadata": {},
   "source": [
    "# The data"
   ]
  },
  {
   "cell_type": "code",
   "execution_count": null,
   "metadata": {},
   "outputs": [],
   "source": [
    "%time ds=xr.open_zarr('/bettik/alberta/eNATL60/zarr/eNATL60-BLBT02-SSH-1h')"
   ]
  },
  {
   "cell_type": "code",
   "execution_count": null,
   "metadata": {},
   "outputs": [],
   "source": [
    "ds"
   ]
  },
  {
   "cell_type": "code",
   "execution_count": null,
   "metadata": {},
   "outputs": [],
   "source": [
    "%time mean=ds.sossheig.mean(dim='time_counter')"
   ]
  },
  {
   "cell_type": "code",
   "execution_count": null,
   "metadata": {},
   "outputs": [],
   "source": [
    "mean"
   ]
  },
  {
   "cell_type": "code",
   "execution_count": null,
   "metadata": {},
   "outputs": [],
   "source": [
    "%time mean.load()"
   ]
  },
  {
   "cell_type": "code",
   "execution_count": null,
   "metadata": {},
   "outputs": [],
   "source": []
  }
 ],
 "metadata": {
  "kernelspec": {
   "display_name": "perf-pangeo",
   "language": "python",
   "name": "perf-pangeo"
  },
  "language_info": {
   "codemirror_mode": {
    "name": "ipython",
    "version": 3
   },
   "file_extension": ".py",
   "mimetype": "text/x-python",
   "name": "python",
   "nbconvert_exporter": "python",
   "pygments_lexer": "ipython3",
   "version": "3.6.10"
  }
 },
 "nbformat": 4,
 "nbformat_minor": 4
}
