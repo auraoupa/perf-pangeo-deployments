{
 "cells": [
  {
   "cell_type": "code",
   "execution_count": 1,
   "metadata": {},
   "outputs": [],
   "source": [
    "import zarr\n",
    "import xarray as xr\n",
    "import time\n",
    "import dask"
   ]
  },
  {
   "cell_type": "code",
   "execution_count": 2,
   "metadata": {},
   "outputs": [],
   "source": [
    "ask_workers=2"
   ]
  },
  {
   "cell_type": "code",
   "execution_count": 27,
   "metadata": {},
   "outputs": [
    {
     "name": "stderr",
     "output_type": "stream",
     "text": [
      "/gpfswork/rech/yrf/rote001/conda/perf-pangeo/lib/python3.6/site-packages/distributed/node.py:155: UserWarning: Port 8787 is already in use.\n",
      "Perhaps you already have a cluster running?\n",
      "Hosting the HTTP server on port 38290 instead\n",
      "  http_address[\"port\"], self.http_server.port\n"
     ]
    },
    {
     "data": {
      "text/html": [
       "<table style=\"border: 2px solid white;\">\n",
       "<tr>\n",
       "<td style=\"vertical-align: top; border: 0px solid white\">\n",
       "<h3 style=\"text-align: left;\">Client</h3>\n",
       "<ul style=\"text-align: left; list-style: none; margin: 0; padding: 0;\">\n",
       "  <li><b>Scheduler: </b>tcp://130.84.132.27:35074</li>\n",
       "  <li><b>Dashboard: </b><a href='http://130.84.132.27:38290/status' target='_blank'>http://130.84.132.27:38290/status</a></li>\n",
       "</ul>\n",
       "</td>\n",
       "<td style=\"vertical-align: top; border: 0px solid white\">\n",
       "<h3 style=\"text-align: left;\">Cluster</h3>\n",
       "<ul style=\"text-align: left; list-style:none; margin: 0; padding: 0;\">\n",
       "  <li><b>Workers: </b>0</li>\n",
       "  <li><b>Cores: </b>0</li>\n",
       "  <li><b>Memory: </b>0 B</li>\n",
       "</ul>\n",
       "</td>\n",
       "</tr>\n",
       "</table>"
      ],
      "text/plain": [
       "<Client: 'tcp://130.84.132.27:35074' processes=0 threads=0, memory=0 B>"
      ]
     },
     "execution_count": 27,
     "metadata": {},
     "output_type": "execute_result"
    }
   ],
   "source": [
    "from dask_jobqueue import SLURMCluster\n",
    "from dask.distributed import Client\n",
    "import dask.dataframe as dd\n",
    "\n",
    "cluster = SLURMCluster(cores=1, memory='1.5TB',job_extra=['--partition=prepost','--account=yrf@cpu',\n",
    "                                  '--ntasks=1','--cpus-per-task=1'], project='PerfTestPangeo', walltime='02:30:00')\n",
    "cluster.scale(ask_workers)\n",
    "\n",
    "c = Client(cluster)\n",
    "\n",
    "c"
   ]
  },
  {
   "cell_type": "code",
   "execution_count": 40,
   "metadata": {},
   "outputs": [
    {
     "name": "stdout",
     "output_type": "stream",
     "text": [
      "             JOBID PARTITION     NAME     USER ST       TIME  NODES NODELIST(REASON)\n",
      "           2123737   prepost dask-wor  rote001 PD       0:00      1 (Resources)\n",
      "           2123736   prepost dask-wor  rote001  R       4:13      1 jean-zay-pp3\n",
      "           2123941   prepost dask-wor  rote001  R      22:36      1 jean-zay-pp2\n",
      "           2123942   prepost dask-wor  rote001  R      22:36      1 jean-zay-pp2\n",
      "           2123620   prepost dask-wor  rote001  R    1:18:20      1 jean-zay-pp1\n",
      "           2123621   prepost dask-wor  rote001  R    1:18:20      1 jean-zay-pp1\n",
      "           2123335   prepost     srun  rote001  R    1:56:47      1 jean-zay-pp1\n",
      "Workers= 1, Memory=1.50 TB\n"
     ]
    }
   ],
   "source": [
    "!squeue -u rote001\n",
    "from dask.utils import ensure_dict, format_bytes\n",
    "workers = c.scheduler_info()[\"workers\"]\n",
    "text=\"Workers= \" + str(len(workers))\n",
    "memory = [w[\"memory_limit\"] for w in workers.values()]\n",
    "if all(memory):\n",
    "    text += \", Memory=\" + format_bytes(sum(memory))\n",
    "print(text)\n"
   ]
  },
  {
   "cell_type": "code",
   "execution_count": 41,
   "metadata": {},
   "outputs": [
    {
     "name": "stdout",
     "output_type": "stream",
     "text": [
      "CPU times: user 145 ms, sys: 22.6 ms, total: 167 ms\n",
      "Wall time: 165 ms\n"
     ]
    }
   ],
   "source": [
    "%time ds=xr.open_zarr('/gpfswork/rech/yrf/rote001/eNATL60/zarr/eNATL60-BLBT02-SSH-1h')"
   ]
  },
  {
   "cell_type": "code",
   "execution_count": 42,
   "metadata": {},
   "outputs": [
    {
     "name": "stdout",
     "output_type": "stream",
     "text": [
      "CPU times: user 101 ms, sys: 6.5 ms, total: 108 ms\n",
      "Wall time: 126 ms\n"
     ]
    }
   ],
   "source": [
    "%time mean=ds.sossheig.mean(dim='time_counter')"
   ]
  },
  {
   "cell_type": "code",
   "execution_count": null,
   "metadata": {},
   "outputs": [],
   "source": [
    "%time mean.load()"
   ]
  },
  {
   "cell_type": "code",
   "execution_count": null,
   "metadata": {},
   "outputs": [],
   "source": []
  },
  {
   "cell_type": "code",
   "execution_count": null,
   "metadata": {},
   "outputs": [],
   "source": []
  }
 ],
 "metadata": {
  "kernelspec": {
   "display_name": "perf-pangeo",
   "language": "python",
   "name": "perf-pangeo"
  },
  "language_info": {
   "codemirror_mode": {
    "name": "ipython",
    "version": 3
   },
   "file_extension": ".py",
   "mimetype": "text/x-python",
   "name": "python",
   "nbconvert_exporter": "python",
   "pygments_lexer": "ipython3",
   "version": "3.6.10"
  }
 },
 "nbformat": 4,
 "nbformat_minor": 4
}
